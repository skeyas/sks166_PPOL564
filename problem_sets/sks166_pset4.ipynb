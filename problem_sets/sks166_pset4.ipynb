{
 "cells": [
  {
   "cell_type": "markdown",
   "metadata": {},
   "source": [
    "## Problem Set 4\n",
    "\n",
    "**Total points (without extra credit)**: 30 \n",
    "\n",
    "**Background on the policy context**: here, we're going to use two datasets to practice reshaping, merging, and regular expression patterns. Both datasets relate to the broader issue of which employers might be violating the rights of temporary guestworkers granted visas under the H-2A program. Here are some articles about potential exploitation of guestworkers by firms and inequality caused by minimal oversight:\n",
    "\n",
    "- News media coverage of labor abuses of temporary guestworkers: https://www.buzzfeednews.com/article/kenbensinger/the-pushovers \n",
    "- GAO report on labor abuses of temporary guestworkers: https://www.gao.gov/products/gao-15-154\n",
    "\n",
    "The following datasets are located in `pset4_inputdata` (need to unzip): \n",
    "\n",
    "- `jobs_clean`: a dataset of guestworker jobs posted by many employers, some of whom have been debarred (banned) from the program for labor abuses; others not debarred\n",
    "- `debar`: a dataset of employers who committed violations of labor regulations meant to protect temporary guestworkers \n",
    "\n",
    "\n",
    "You can view a codebook here: https://docs.google.com/spreadsheets/d/1rF9GJEC8pPKxipD0TsoG9DVdqz3EJ-b-BHEtyioAX7I/edit?usp=sharing"
   ]
  },
  {
   "cell_type": "code",
   "execution_count": 1,
   "metadata": {},
   "outputs": [],
   "source": [
    "## helpful packages\n",
    "import pandas as pd\n",
    "import numpy as np\n",
    "import random\n",
    "import re\n",
    "import os\n",
    "\n",
    "## repeated printouts\n",
    "from IPython.core.interactiveshell import InteractiveShell\n",
    "InteractiveShell.ast_node_interactivity = \"all\"\n"
   ]
  },
  {
   "cell_type": "markdown",
   "metadata": {},
   "source": [
    "# 1. Reshaping data (13 points total)"
   ]
  },
  {
   "cell_type": "markdown",
   "metadata": {},
   "source": [
    "Load the following dataset stored in `pset4_inputdata`: `debar.csv`\n",
    "\n",
    "This represents employers temporarily banned from hiring workers (debar.csv); call this `debar`\n",
    "\n",
    "\n",
    "View the head()\n"
   ]
  },
  {
   "cell_type": "code",
   "execution_count": 2,
   "metadata": {
    "scrolled": true
   },
   "outputs": [],
   "source": [
    "## your code \n",
    "import zipfile\n",
    "with zipfile.ZipFile(\"pset4_inputdata.zip\",\"r\") as zip_ref:\n",
    "    zip_ref.extractall()\n",
    "    \n",
    "df = pd.read_csv(\"pset4_inputdata/debar.csv\")"
   ]
  },
  {
   "cell_type": "markdown",
   "metadata": {},
   "source": [
    "## 1.1 (1 point)\n",
    "\n",
    "Print the number of rows in `debar` versus the number of unique employer names (`Name`). Is there one row per employer or multiple rows for some employers?"
   ]
  },
  {
   "cell_type": "code",
   "execution_count": 3,
   "metadata": {},
   "outputs": [
    {
     "data": {
      "text/plain": [
       "105"
      ]
     },
     "execution_count": 3,
     "metadata": {},
     "output_type": "execute_result"
    },
    {
     "data": {
      "text/plain": [
       "94"
      ]
     },
     "execution_count": 3,
     "metadata": {},
     "output_type": "execute_result"
    }
   ],
   "source": [
    "## your code here\n",
    "len(df)\n",
    "df[\"Name\"].nunique()"
   ]
  },
  {
   "cell_type": "markdown",
   "metadata": {},
   "source": [
    "There are multiple rows for some employers."
   ]
  },
  {
   "cell_type": "markdown",
   "metadata": {},
   "source": [
    "## 1.2 Investigating duplicated rows (2 points)\n",
    "\n",
    "A. Create a new column in `debar`--`is_repeated`-- that tells us whether an employer (`Name`) is repeated > 1 times\n",
    "\n",
    "*Hint*: there are multiple ways to solve this but some possibilities to get the list of names that are repeated are:\n",
    "- Using value_counts() on the `Name` variable and extracting the index from that value counts \n",
    "- Using groupby to count the rows attached to one name\n",
    "\n",
    "B. Print the rows where `is_repeated == True` and interpret\n",
    "\n",
    "C. Subset to the rows where `is_repeated == True` and save that data as `mult_debar`. Print the head() and shape"
   ]
  },
  {
   "cell_type": "code",
   "execution_count": 4,
   "metadata": {},
   "outputs": [
    {
     "data": {
      "text/html": [
       "<div>\n",
       "<style scoped>\n",
       "    .dataframe tbody tr th:only-of-type {\n",
       "        vertical-align: middle;\n",
       "    }\n",
       "\n",
       "    .dataframe tbody tr th {\n",
       "        vertical-align: top;\n",
       "    }\n",
       "\n",
       "    .dataframe thead th {\n",
       "        text-align: right;\n",
       "    }\n",
       "</style>\n",
       "<table border=\"1\" class=\"dataframe\">\n",
       "  <thead>\n",
       "    <tr style=\"text-align: right;\">\n",
       "      <th></th>\n",
       "      <th>Name</th>\n",
       "      <th>City, State</th>\n",
       "      <th>Violation</th>\n",
       "      <th>Start date</th>\n",
       "      <th>viol_num</th>\n",
       "      <th>is_repeated</th>\n",
       "    </tr>\n",
       "  </thead>\n",
       "  <tbody>\n",
       "    <tr>\n",
       "      <th>0</th>\n",
       "      <td>Macky and Brad Farms</td>\n",
       "      <td>Plains, TX</td>\n",
       "      <td>Impeding the Audit Process – Partial- Response</td>\n",
       "      <td>2/13/2015</td>\n",
       "      <td>viol1</td>\n",
       "      <td>True</td>\n",
       "    </tr>\n",
       "    <tr>\n",
       "      <th>9</th>\n",
       "      <td>Autumn Hill Orchard</td>\n",
       "      <td>Groton, MA</td>\n",
       "      <td>Impeding the Audit Process – Non- Response</td>\n",
       "      <td>7/6/2014</td>\n",
       "      <td>viol2</td>\n",
       "      <td>True</td>\n",
       "    </tr>\n",
       "    <tr>\n",
       "      <th>14</th>\n",
       "      <td>Macky and Brad Farms</td>\n",
       "      <td>Plains, TX</td>\n",
       "      <td>Failure to respond to audit (no response)</td>\n",
       "      <td>2/13/2015</td>\n",
       "      <td>viol2</td>\n",
       "      <td>True</td>\n",
       "    </tr>\n",
       "    <tr>\n",
       "      <th>23</th>\n",
       "      <td>SRT Farms</td>\n",
       "      <td>Morton, TX</td>\n",
       "      <td>Failure to respond to audit (no response)</td>\n",
       "      <td>11/16/2014</td>\n",
       "      <td>viol1</td>\n",
       "      <td>True</td>\n",
       "    </tr>\n",
       "    <tr>\n",
       "      <th>24</th>\n",
       "      <td>Dove Creek Farms</td>\n",
       "      <td>Mount Vernon, TX</td>\n",
       "      <td>Failure to Respond to Audit Request</td>\n",
       "      <td>2/9/2018</td>\n",
       "      <td>viol1</td>\n",
       "      <td>True</td>\n",
       "    </tr>\n",
       "  </tbody>\n",
       "</table>\n",
       "</div>"
      ],
      "text/plain": [
       "                    Name       City, State  \\\n",
       "0   Macky and Brad Farms        Plains, TX   \n",
       "9    Autumn Hill Orchard        Groton, MA   \n",
       "14  Macky and Brad Farms        Plains, TX   \n",
       "23             SRT Farms        Morton, TX   \n",
       "24      Dove Creek Farms  Mount Vernon, TX   \n",
       "\n",
       "                                         Violation  Start date viol_num  \\\n",
       "0   Impeding the Audit Process – Partial- Response   2/13/2015    viol1   \n",
       "9       Impeding the Audit Process – Non- Response    7/6/2014    viol2   \n",
       "14       Failure to respond to audit (no response)   2/13/2015    viol2   \n",
       "23       Failure to respond to audit (no response)  11/16/2014    viol1   \n",
       "24             Failure to Respond to Audit Request    2/9/2018    viol1   \n",
       "\n",
       "    is_repeated  \n",
       "0          True  \n",
       "9          True  \n",
       "14         True  \n",
       "23         True  \n",
       "24         True  "
      ]
     },
     "execution_count": 4,
     "metadata": {},
     "output_type": "execute_result"
    },
    {
     "data": {
      "text/plain": [
       "(22, 6)"
      ]
     },
     "execution_count": 4,
     "metadata": {},
     "output_type": "execute_result"
    }
   ],
   "source": [
    "## your code here\n",
    "df[\"is_repeated\"] = df.Name.duplicated(keep=False)\n",
    "\n",
    "mult_debar = df[df.is_repeated]\n",
    "mult_debar.head()\n",
    "mult_debar.shape"
   ]
  },
  {
   "cell_type": "markdown",
   "metadata": {},
   "source": [
    "There are several instances where an employer appears multiple times; the max number of times an employer appears is 2."
   ]
  },
  {
   "cell_type": "markdown",
   "metadata": {},
   "source": [
    "## 1.3 Reshape mult_debar to wide to begin filtering out duplicates (4 points)\n",
    "\n",
    "You want to separate out two cases:\n",
    "\n",
    "- Cases where the repeat rows for one employer are due to duplicated data \n",
    "- Cases where the repeat rows for one employer represent repeated violations for different issues\n",
    "\n",
    "There are various ways to check duplicates in this data (eg converting `Violation` to lowercase; replacing spelled-out states with two-dig state codes)\n",
    "\n",
    "We're going to use the simple rule of:\n",
    "\n",
    "- A row is a duplicate if, within an employer (defined by Name + City, State), the Start date for each row's violation is the same \n",
    "\n",
    "To begin to check this, reshape `mult_debar` to a wide dataframe (`mult_debar_wide`) with the following columns, treating the `Name` and `City, State` as the index for the pivot:\n",
    "\n",
    "- Name\n",
    "- City, State\n",
    "- start_date_viol1\n",
    "- start_date_viol2\n",
    "\n",
    "Print the head and shape"
   ]
  },
  {
   "cell_type": "code",
   "execution_count": 5,
   "metadata": {},
   "outputs": [
    {
     "name": "stderr",
     "output_type": "stream",
     "text": [
      "C:\\Users\\keyasengupta\\AppData\\Local\\Temp\\ipykernel_14196\\3603440639.py:2: FutureWarning: In a future version of pandas all arguments of DataFrame.pivot will be keyword-only.\n",
      "  mult_debar_wide = mult_debar.pivot([\"Name\", \"City, State\"], \"viol_num\", \"Start date\")\n"
     ]
    },
    {
     "data": {
      "text/html": [
       "<div>\n",
       "<style scoped>\n",
       "    .dataframe tbody tr th:only-of-type {\n",
       "        vertical-align: middle;\n",
       "    }\n",
       "\n",
       "    .dataframe tbody tr th {\n",
       "        vertical-align: top;\n",
       "    }\n",
       "\n",
       "    .dataframe thead th {\n",
       "        text-align: right;\n",
       "    }\n",
       "</style>\n",
       "<table border=\"1\" class=\"dataframe\">\n",
       "  <thead>\n",
       "    <tr style=\"text-align: right;\">\n",
       "      <th></th>\n",
       "      <th>Name</th>\n",
       "      <th>City, State</th>\n",
       "      <th>start_date_viol1</th>\n",
       "      <th>start_date_viol2</th>\n",
       "    </tr>\n",
       "  </thead>\n",
       "  <tbody>\n",
       "    <tr>\n",
       "      <th>0</th>\n",
       "      <td>Autumn Hill Orchard</td>\n",
       "      <td>Groton, MA</td>\n",
       "      <td>7/6/2014</td>\n",
       "      <td>7/6/2014</td>\n",
       "    </tr>\n",
       "    <tr>\n",
       "      <th>1</th>\n",
       "      <td>Cisco Produce Inc.</td>\n",
       "      <td>Cairo, GA</td>\n",
       "      <td>12/10/2015</td>\n",
       "      <td>12/10/2014</td>\n",
       "    </tr>\n",
       "    <tr>\n",
       "      <th>2</th>\n",
       "      <td>Dove Creek Farms</td>\n",
       "      <td>Mount Vernon, TX</td>\n",
       "      <td>2/9/2018</td>\n",
       "      <td>2/9/2018</td>\n",
       "    </tr>\n",
       "    <tr>\n",
       "      <th>3</th>\n",
       "      <td>F&amp;W Farms</td>\n",
       "      <td>Ingalls, KS</td>\n",
       "      <td>12/10/2014</td>\n",
       "      <td>12/10/2014</td>\n",
       "    </tr>\n",
       "    <tr>\n",
       "      <th>4</th>\n",
       "      <td>Macky and Brad Farms</td>\n",
       "      <td>Plains, TX</td>\n",
       "      <td>2/13/2015</td>\n",
       "      <td>2/13/2015</td>\n",
       "    </tr>\n",
       "  </tbody>\n",
       "</table>\n",
       "</div>"
      ],
      "text/plain": [
       "                   Name       City, State start_date_viol1 start_date_viol2\n",
       "0   Autumn Hill Orchard        Groton, MA         7/6/2014         7/6/2014\n",
       "1    Cisco Produce Inc.         Cairo, GA       12/10/2015       12/10/2014\n",
       "2      Dove Creek Farms  Mount Vernon, TX         2/9/2018         2/9/2018\n",
       "3             F&W Farms       Ingalls, KS       12/10/2014       12/10/2014\n",
       "4  Macky and Brad Farms        Plains, TX        2/13/2015        2/13/2015"
      ]
     },
     "execution_count": 5,
     "metadata": {},
     "output_type": "execute_result"
    },
    {
     "data": {
      "text/plain": [
       "(11, 4)"
      ]
     },
     "execution_count": 5,
     "metadata": {},
     "output_type": "execute_result"
    }
   ],
   "source": [
    "## your code here\n",
    "mult_debar_wide = mult_debar.pivot([\"Name\", \"City, State\"], \"viol_num\", \"Start date\")\n",
    "mult_debar_wide.columns = [\"start_date_\" + str(x) for \n",
    "                           x in mult_debar_wide.columns if \"viol\" in x]\n",
    "\n",
    "mult_debar_wide = mult_debar_wide.reset_index()\n",
    "mult_debar_wide.head()\n",
    "mult_debar_wide.shape"
   ]
  },
  {
   "cell_type": "markdown",
   "metadata": {},
   "source": [
    "## 1.4 Filter out duplicates from original debar data (6 points)\n",
    "\n",
    "A. Using `mult_debar_wide`, add a column `is_dup` that takes value of True for cases where start_date_viol1 == start_date_viol2 marking the row as a duplicate\n",
    "\n",
    "B. Going back to the original long-format data you loaded at the beginning- `debar`\n",
    "    - For employers where `is_dup == True` as indicated by your wide-format dataframe, only keep `violnum == viol1`\n",
    "    - For all other employers (so is_dup == False and ones we didnt need to check duplicates for), keep all violnum\n",
    "    - Remove the `is_repeated` column from the `debar` data\n",
    "\n",
    "**Hint**: you can complete part B without a for loop; `pd.concat` with axis = 0 (row binding) is one way\n",
    "\n",
    "Call the resulting dataframe `debar_clean` and print the shape and # of unique employer names"
   ]
  },
  {
   "cell_type": "code",
   "execution_count": 6,
   "metadata": {},
   "outputs": [
    {
     "name": "stderr",
     "output_type": "stream",
     "text": [
      "C:\\Users\\keyasengupta\\AppData\\Local\\Temp\\ipykernel_14196\\1064485327.py:5: UserWarning: Boolean Series key will be reindexed to match DataFrame index.\n",
      "  debar_clean = pd.concat([df[df[\"Name\"]\\\n"
     ]
    },
    {
     "data": {
      "text/plain": [
       "(97, 5)"
      ]
     },
     "execution_count": 6,
     "metadata": {},
     "output_type": "execute_result"
    },
    {
     "data": {
      "text/plain": [
       "94"
      ]
     },
     "execution_count": 6,
     "metadata": {},
     "output_type": "execute_result"
    }
   ],
   "source": [
    "## your code here\n",
    "mult_debar_wide[\"is_dup\"] = mult_debar_wide.start_date_viol1 == mult_debar_wide.start_date_viol2\n",
    "\n",
    "\n",
    "debar_clean = pd.concat([df[df[\"Name\"]\\\n",
    "                            .isin(mult_debar_wide[mult_debar_wide.is_dup].Name)][df[\"viol_num\"] == \"viol1\"], \n",
    "                         df[~df[\"Name\"].isin(mult_debar_wide[mult_debar_wide.is_dup].Name)]]).drop(columns=\"is_repeated\")\n",
    "\n",
    "debar_clean.shape\n",
    "debar_clean.Name.nunique()"
   ]
  },
  {
   "cell_type": "markdown",
   "metadata": {},
   "source": [
    "# 2. Merging and regex (17 points total)\n",
    "\n"
   ]
  },
  {
   "cell_type": "markdown",
   "metadata": {},
   "source": [
    "## 2.1 Load data on job postings\n",
    "\n",
    "The previous dataset contains a small subset of employers who faced temporary bans due to violations of H-2A program regulations\n",
    "\n",
    "Since most of the bans have expired, we're going to see which of those employers posted new H-2A jobs in the first quarter of 2021 \n",
    "\n",
    "Loading the `jobs_clean.csv` data stored in `pset4_inputdata`"
   ]
  },
  {
   "cell_type": "code",
   "execution_count": 7,
   "metadata": {},
   "outputs": [],
   "source": [
    "# your code here to load the data \n",
    "\n",
    "jobs = pd.read_csv(\"pset4_inputdata/jobs_clean.csv\")"
   ]
  },
  {
   "cell_type": "markdown",
   "metadata": {},
   "source": [
    "##  2.2 Try inner join on employer name  (2 points)\n",
    "\n",
    "- Use the `EMPLOYER_NAME` field of the `jobs` dataset\n",
    "- Use the `Name` field of the `debar_clean` dataset \n",
    "\n",
    "A. Use pd.merge with an inner join on those fields to see whether there are any exact matches. \n",
    "\n",
    "B. If there are exact matches, print the row(s) with exact matches\n",
    "\n"
   ]
  },
  {
   "cell_type": "code",
   "execution_count": 8,
   "metadata": {},
   "outputs": [
    {
     "data": {
      "text/html": [
       "<div>\n",
       "<style scoped>\n",
       "    .dataframe tbody tr th:only-of-type {\n",
       "        vertical-align: middle;\n",
       "    }\n",
       "\n",
       "    .dataframe tbody tr th {\n",
       "        vertical-align: top;\n",
       "    }\n",
       "\n",
       "    .dataframe thead th {\n",
       "        text-align: right;\n",
       "    }\n",
       "</style>\n",
       "<table border=\"1\" class=\"dataframe\">\n",
       "  <thead>\n",
       "    <tr style=\"text-align: right;\">\n",
       "      <th></th>\n",
       "      <th>CASE_NUMBER</th>\n",
       "      <th>EMPLOYER_NAME</th>\n",
       "      <th>EMPLOYER_CITY</th>\n",
       "      <th>EMPLOYER_STATE</th>\n",
       "      <th>EMPLOYER_ADDRESS_1</th>\n",
       "      <th>Name</th>\n",
       "      <th>City, State</th>\n",
       "      <th>Violation</th>\n",
       "      <th>Start date</th>\n",
       "      <th>viol_num</th>\n",
       "    </tr>\n",
       "  </thead>\n",
       "  <tbody>\n",
       "    <tr>\n",
       "      <th>0</th>\n",
       "      <td>H-300-20287-876656</td>\n",
       "      <td>Rafael Barajas</td>\n",
       "      <td>Port St. Lucie</td>\n",
       "      <td>FL</td>\n",
       "      <td>2598 SW Dalpina Rd.</td>\n",
       "      <td>Rafael Barajas</td>\n",
       "      <td>Sebring, Florida</td>\n",
       "      <td>Non-payment of certification fee</td>\n",
       "      <td>9/23/2016</td>\n",
       "      <td>viol1</td>\n",
       "    </tr>\n",
       "  </tbody>\n",
       "</table>\n",
       "</div>"
      ],
      "text/plain": [
       "          CASE_NUMBER   EMPLOYER_NAME   EMPLOYER_CITY EMPLOYER_STATE  \\\n",
       "0  H-300-20287-876656  Rafael Barajas  Port St. Lucie             FL   \n",
       "\n",
       "    EMPLOYER_ADDRESS_1            Name       City, State  \\\n",
       "0  2598 SW Dalpina Rd.  Rafael Barajas  Sebring, Florida   \n",
       "\n",
       "                          Violation Start date viol_num  \n",
       "0  Non-payment of certification fee  9/23/2016    viol1  "
      ]
     },
     "execution_count": 8,
     "metadata": {},
     "output_type": "execute_result"
    }
   ],
   "source": [
    "## your code here\n",
    "jobs.merge(debar_clean, \"inner\", left_on=\"EMPLOYER_NAME\", right_on=\"Name\")"
   ]
  },
  {
   "cell_type": "markdown",
   "metadata": {},
   "source": [
    "## 2.3 Targeted regex (10 points total)\n",
    "\n",
    "You want to see if you can increase the exact match rate with some basic cleaning of each \n",
    "of the employer name fields in each dataset "
   ]
  },
  {
   "cell_type": "markdown",
   "metadata": {},
   "source": [
    "### 2.3.1 Converting to upper (2 points)\n",
    "\n",
    "A. Convert the `EMPLOYER_NAME` and `Name` fields to uppercase using list comprehension rather than df.varname.str.upper() (it's fine to do a separate list comprehension line for each of the two columns)\n",
    "\n",
    "B. Print a random sample of 15 values of each result\n",
    "\n",
    "C. Assign the full vector of uppercase names back to the original data, writing over the original `EMPLOYER_NAME` and `Name` columns \n"
   ]
  },
  {
   "cell_type": "code",
   "execution_count": 9,
   "metadata": {},
   "outputs": [
    {
     "data": {
      "text/plain": [
       "539              SWEET RIVER COMPANY, LLC\n",
       "441                          ERWIN TUPPER\n",
       "56          CRAIG & SCOTT JONES LIVESTOCK\n",
       "688                       SORG DAIRY, LLC\n",
       "1541              CHAPPELL MILL TREES LLC\n",
       "721                       S & T FARMS LLC\n",
       "2388    SMITH RANCHO LAND & LIVESTOCK LLC\n",
       "2003            WESTERN RANGE ASSOCIATION\n",
       "667                         WIVHOLM FARMS\n",
       "1055                    KYLE SIBERT FARMS\n",
       "162                              B&G AGRI\n",
       "803                      SHEB W. CALLAHAN\n",
       "1355                          BANDY RANCH\n",
       "2551                PUSHEN & PULLEN FARMS\n",
       "240             WESTERN RANGE ASSOCIATION\n",
       "Name: EMPLOYER_NAME, dtype: object"
      ]
     },
     "execution_count": 9,
     "metadata": {},
     "output_type": "execute_result"
    },
    {
     "data": {
      "text/plain": [
       "49                CISCO PRODUCE INC.\n",
       "80             C HANGING L RANCH LLP\n",
       "103    TRINITY LIVESTOCK PARTNERSHIP\n",
       "101                      DONNA LUCIO\n",
       "2               RB FARM PICKING, INC\n",
       "1                      LABATTE FARMS\n",
       "66             PEACH CREST FARM, LLC\n",
       "50                      TODD DAULTON\n",
       "73              ALTERIC JEAN-CHARLES\n",
       "18          ALTENDORF TRANSPORT INC.\n",
       "10            YOLANDA CHAVEZ FARMING\n",
       "53                       PROMAX INC.\n",
       "22                      WALKER PLACE\n",
       "25     CITY PINESTRAW AND HARVESTING\n",
       "86             MYRKA MIREYA CARDENAS\n",
       "Name: Name, dtype: object"
      ]
     },
     "execution_count": 9,
     "metadata": {},
     "output_type": "execute_result"
    }
   ],
   "source": [
    "## insert your code to turn into uppercase here\n",
    "\n",
    "jobs[\"EMPLOYER_NAME\"] = [name.upper() for name in jobs[\"EMPLOYER_NAME\"]]\n",
    "debar_clean.Name = [name.upper() for name in debar_clean.Name]\n",
    "\n",
    "## insert your code for the random sample\n",
    "jobs[\"EMPLOYER_NAME\"].sample(15)\n",
    "debar_clean.Name.sample(15)"
   ]
  },
  {
   "cell_type": "markdown",
   "metadata": {},
   "source": [
    "### 2.3.2 Cleaning up punctuation (4 points)\n",
    "\n",
    "You notice that INC, CO, and LLC are sometimes followed by a period (.) but sometimes not\n",
    "\n",
    "A. For each dataset, write a regex pattern using `re.sub` to remove the . but only if it's preceded by INC, LLC, or CO \n",
    "\n",
    "Make sure LLC, INC, CO remain part of the string but just without the dot\n",
    "\n",
    "B. Test the pattern on the positive and negative example we provide below and print the result. See the Github issue for examples of what to return\n",
    "\n",
    "\n",
    "**Hint**: https://stackoverflow.com/questions/7191209/python-re-sub-replace-with-matched-content\n",
    "\n"
   ]
  },
  {
   "cell_type": "code",
   "execution_count": 10,
   "metadata": {},
   "outputs": [],
   "source": [
    "pos_example_1 = \"CISCO PRODUCE INC.\"\n",
    "pos_example_2 = \"AVOYELLES HONEY CO., LLC\"\n",
    "neg_example = \"E.V. RANCH LLP\""
   ]
  },
  {
   "cell_type": "code",
   "execution_count": 11,
   "metadata": {},
   "outputs": [
    {
     "name": "stdout",
     "output_type": "stream",
     "text": [
      "['CISCO PRODUCE INC', 'AVOYELLES HONEY CO, LLC', 'E.V. RANCH LLP']\n"
     ]
    }
   ],
   "source": [
    "## insert your code here with the regex pattern for part A\n",
    "pattern = \"(CO\\.|INC\\.|LLC\\.)\"\n",
    "\n",
    "## insert your code to use re.sub to apply the pattern to the test cases for part B\n",
    "new_vals = [re.sub(pattern, lambda x: x.group(0)[:-1], s) for s in [pos_example_1, pos_example_2, neg_example]]\n",
    "print(new_vals)"
   ]
  },
  {
   "cell_type": "markdown",
   "metadata": {},
   "source": [
    "### 2.3.3 (4 points)\n",
    "\n",
    "Use that pattern in conjunction with `re.sub` and list comprehension to clean the employer name columns in each dataset. Save the new columns as `name_clean` in each. Then, use row subsetting to (1) subset to rows that changed names and (2) for:\n",
    "\n",
    "- `debar_clean` print the `Name` and `name_clean` columns\n",
    "- `jobs` print the `EMPLOYER_NAME` and `name_clean` columns\n",
    "\n",
    "Make sure to use the uppercase versions of the variables\n"
   ]
  },
  {
   "cell_type": "code",
   "execution_count": 12,
   "metadata": {},
   "outputs": [
    {
     "data": {
      "text/html": [
       "<div>\n",
       "<style scoped>\n",
       "    .dataframe tbody tr th:only-of-type {\n",
       "        vertical-align: middle;\n",
       "    }\n",
       "\n",
       "    .dataframe tbody tr th {\n",
       "        vertical-align: top;\n",
       "    }\n",
       "\n",
       "    .dataframe thead th {\n",
       "        text-align: right;\n",
       "    }\n",
       "</style>\n",
       "<table border=\"1\" class=\"dataframe\">\n",
       "  <thead>\n",
       "    <tr style=\"text-align: right;\">\n",
       "      <th></th>\n",
       "      <th>Name</th>\n",
       "      <th>name_clean</th>\n",
       "    </tr>\n",
       "  </thead>\n",
       "  <tbody>\n",
       "    <tr>\n",
       "      <th>15</th>\n",
       "      <td>ANTON FERTILIZER INC.</td>\n",
       "      <td>ANTON FERTILIZER INC</td>\n",
       "    </tr>\n",
       "    <tr>\n",
       "      <th>18</th>\n",
       "      <td>ALTENDORF TRANSPORT INC.</td>\n",
       "      <td>ALTENDORF TRANSPORT INC</td>\n",
       "    </tr>\n",
       "    <tr>\n",
       "      <th>20</th>\n",
       "      <td>GREAT PLAINS FLUID SERVICE, INC.</td>\n",
       "      <td>GREAT PLAINS FLUID SERVICE, INC</td>\n",
       "    </tr>\n",
       "    <tr>\n",
       "      <th>21</th>\n",
       "      <td>REIMER'S INC.</td>\n",
       "      <td>REIMER'S INC</td>\n",
       "    </tr>\n",
       "    <tr>\n",
       "      <th>31</th>\n",
       "      <td>REIMER’S INC.</td>\n",
       "      <td>REIMER’S INC</td>\n",
       "    </tr>\n",
       "    <tr>\n",
       "      <th>49</th>\n",
       "      <td>CISCO PRODUCE INC.</td>\n",
       "      <td>CISCO PRODUCE INC</td>\n",
       "    </tr>\n",
       "    <tr>\n",
       "      <th>53</th>\n",
       "      <td>PROMAX INC.</td>\n",
       "      <td>PROMAX INC</td>\n",
       "    </tr>\n",
       "    <tr>\n",
       "      <th>61</th>\n",
       "      <td>SAXTONS RIVER ORCHARDS, INC.</td>\n",
       "      <td>SAXTONS RIVER ORCHARDS, INC</td>\n",
       "    </tr>\n",
       "    <tr>\n",
       "      <th>70</th>\n",
       "      <td>CISCO PRODUCE INC.</td>\n",
       "      <td>CISCO PRODUCE INC</td>\n",
       "    </tr>\n",
       "    <tr>\n",
       "      <th>76</th>\n",
       "      <td>AVOYELLES HONEY CO., LLC</td>\n",
       "      <td>AVOYELLES HONEY CO, LLC</td>\n",
       "    </tr>\n",
       "    <tr>\n",
       "      <th>78</th>\n",
       "      <td>GERONIMO SHEEP CO.</td>\n",
       "      <td>GERONIMO SHEEP CO</td>\n",
       "    </tr>\n",
       "  </tbody>\n",
       "</table>\n",
       "</div>"
      ],
      "text/plain": [
       "                                Name                       name_clean\n",
       "15             ANTON FERTILIZER INC.             ANTON FERTILIZER INC\n",
       "18          ALTENDORF TRANSPORT INC.          ALTENDORF TRANSPORT INC\n",
       "20  GREAT PLAINS FLUID SERVICE, INC.  GREAT PLAINS FLUID SERVICE, INC\n",
       "21                     REIMER'S INC.                     REIMER'S INC\n",
       "31                     REIMER’S INC.                     REIMER’S INC\n",
       "49                CISCO PRODUCE INC.                CISCO PRODUCE INC\n",
       "53                       PROMAX INC.                       PROMAX INC\n",
       "61      SAXTONS RIVER ORCHARDS, INC.      SAXTONS RIVER ORCHARDS, INC\n",
       "70                CISCO PRODUCE INC.                CISCO PRODUCE INC\n",
       "76          AVOYELLES HONEY CO., LLC          AVOYELLES HONEY CO, LLC\n",
       "78                GERONIMO SHEEP CO.                GERONIMO SHEEP CO"
      ]
     },
     "execution_count": 12,
     "metadata": {},
     "output_type": "execute_result"
    },
    {
     "data": {
      "text/html": [
       "<div>\n",
       "<style scoped>\n",
       "    .dataframe tbody tr th:only-of-type {\n",
       "        vertical-align: middle;\n",
       "    }\n",
       "\n",
       "    .dataframe tbody tr th {\n",
       "        vertical-align: top;\n",
       "    }\n",
       "\n",
       "    .dataframe thead th {\n",
       "        text-align: right;\n",
       "    }\n",
       "</style>\n",
       "<table border=\"1\" class=\"dataframe\">\n",
       "  <thead>\n",
       "    <tr style=\"text-align: right;\">\n",
       "      <th></th>\n",
       "      <th>EMPLOYER_NAME</th>\n",
       "      <th>name_clean</th>\n",
       "    </tr>\n",
       "  </thead>\n",
       "  <tbody>\n",
       "    <tr>\n",
       "      <th>4</th>\n",
       "      <td>DUNSON HARVESTING, INC.</td>\n",
       "      <td>DUNSON HARVESTING, INC</td>\n",
       "    </tr>\n",
       "    <tr>\n",
       "      <th>7</th>\n",
       "      <td>FARM LABOR ASSOCIATION FOR GROWERS, INC.</td>\n",
       "      <td>FARM LABOR ASSOCIATION FOR GROWERS, INC</td>\n",
       "    </tr>\n",
       "    <tr>\n",
       "      <th>14</th>\n",
       "      <td>MCLAIN FARMS, INC.</td>\n",
       "      <td>MCLAIN FARMS, INC</td>\n",
       "    </tr>\n",
       "    <tr>\n",
       "      <th>17</th>\n",
       "      <td>BONNIE PLANTS, INC.</td>\n",
       "      <td>BONNIE PLANTS, INC</td>\n",
       "    </tr>\n",
       "    <tr>\n",
       "      <th>18</th>\n",
       "      <td>B &amp; W QUALITY GROWERS, INC.</td>\n",
       "      <td>B &amp; W QUALITY GROWERS, INC</td>\n",
       "    </tr>\n",
       "    <tr>\n",
       "      <th>...</th>\n",
       "      <td>...</td>\n",
       "      <td>...</td>\n",
       "    </tr>\n",
       "    <tr>\n",
       "      <th>2700</th>\n",
       "      <td>HARRAL LIVESTOCK CO. LLC</td>\n",
       "      <td>HARRAL LIVESTOCK CO LLC</td>\n",
       "    </tr>\n",
       "    <tr>\n",
       "      <th>2701</th>\n",
       "      <td>ECOSYSTEM CONCEPTS INC.</td>\n",
       "      <td>ECOSYSTEM CONCEPTS INC</td>\n",
       "    </tr>\n",
       "    <tr>\n",
       "      <th>2702</th>\n",
       "      <td>SIDDOWAY SHEEP CO.</td>\n",
       "      <td>SIDDOWAY SHEEP CO</td>\n",
       "    </tr>\n",
       "    <tr>\n",
       "      <th>2705</th>\n",
       "      <td>SATHER MANAGEMENT INC.</td>\n",
       "      <td>SATHER MANAGEMENT INC</td>\n",
       "    </tr>\n",
       "    <tr>\n",
       "      <th>2711</th>\n",
       "      <td>C R KOEHL AND SONS INC.</td>\n",
       "      <td>C R KOEHL AND SONS INC</td>\n",
       "    </tr>\n",
       "  </tbody>\n",
       "</table>\n",
       "<p>576 rows × 2 columns</p>\n",
       "</div>"
      ],
      "text/plain": [
       "                                 EMPLOYER_NAME  \\\n",
       "4                      DUNSON HARVESTING, INC.   \n",
       "7     FARM LABOR ASSOCIATION FOR GROWERS, INC.   \n",
       "14                          MCLAIN FARMS, INC.   \n",
       "17                         BONNIE PLANTS, INC.   \n",
       "18                 B & W QUALITY GROWERS, INC.   \n",
       "...                                        ...   \n",
       "2700                  HARRAL LIVESTOCK CO. LLC   \n",
       "2701                   ECOSYSTEM CONCEPTS INC.   \n",
       "2702                        SIDDOWAY SHEEP CO.   \n",
       "2705                    SATHER MANAGEMENT INC.   \n",
       "2711                   C R KOEHL AND SONS INC.   \n",
       "\n",
       "                                   name_clean  \n",
       "4                      DUNSON HARVESTING, INC  \n",
       "7     FARM LABOR ASSOCIATION FOR GROWERS, INC  \n",
       "14                          MCLAIN FARMS, INC  \n",
       "17                         BONNIE PLANTS, INC  \n",
       "18                 B & W QUALITY GROWERS, INC  \n",
       "...                                       ...  \n",
       "2700                  HARRAL LIVESTOCK CO LLC  \n",
       "2701                   ECOSYSTEM CONCEPTS INC  \n",
       "2702                        SIDDOWAY SHEEP CO  \n",
       "2705                    SATHER MANAGEMENT INC  \n",
       "2711                   C R KOEHL AND SONS INC  \n",
       "\n",
       "[576 rows x 2 columns]"
      ]
     },
     "execution_count": 12,
     "metadata": {},
     "output_type": "execute_result"
    }
   ],
   "source": [
    "## your code here to clean the columns\n",
    "jobs[\"name_clean\"] = [re.sub(pattern, lambda x: x.group(0)[:-1], s) for s in jobs[\"EMPLOYER_NAME\"]]\n",
    "debar_clean[\"name_clean\"] = [re.sub(pattern, lambda x: x.group(0)[:-1], s) for s in debar_clean[\"Name\"]]\n",
    "\n",
    "debar_clean[debar_clean.Name != debar_clean.name_clean][[\"Name\", \"name_clean\"]]\n",
    "jobs[jobs[\"EMPLOYER_NAME\"] != jobs.name_clean][[\"EMPLOYER_NAME\", \"name_clean\"]]"
   ]
  },
  {
   "cell_type": "code",
   "execution_count": 13,
   "metadata": {},
   "outputs": [
    {
     "data": {
      "text/html": [
       "<div>\n",
       "<style scoped>\n",
       "    .dataframe tbody tr th:only-of-type {\n",
       "        vertical-align: middle;\n",
       "    }\n",
       "\n",
       "    .dataframe tbody tr th {\n",
       "        vertical-align: top;\n",
       "    }\n",
       "\n",
       "    .dataframe thead th {\n",
       "        text-align: right;\n",
       "    }\n",
       "</style>\n",
       "<table border=\"1\" class=\"dataframe\">\n",
       "  <thead>\n",
       "    <tr style=\"text-align: right;\">\n",
       "      <th></th>\n",
       "      <th>CASE_NUMBER</th>\n",
       "      <th>EMPLOYER_NAME</th>\n",
       "      <th>EMPLOYER_CITY</th>\n",
       "      <th>EMPLOYER_STATE</th>\n",
       "      <th>EMPLOYER_ADDRESS_1</th>\n",
       "      <th>name_clean</th>\n",
       "    </tr>\n",
       "  </thead>\n",
       "  <tbody>\n",
       "    <tr>\n",
       "      <th>0</th>\n",
       "      <td>H-300-20199-721302</td>\n",
       "      <td>FAZIO FARMS OPERATING COMPANY, LLC</td>\n",
       "      <td>Portland</td>\n",
       "      <td>OR</td>\n",
       "      <td>8433 NE 13th Ave</td>\n",
       "      <td>FAZIO FARMS OPERATING COMPANY, LLC</td>\n",
       "    </tr>\n",
       "    <tr>\n",
       "      <th>1</th>\n",
       "      <td>H-300-20231-773906</td>\n",
       "      <td>CHARLIE SUNDERLAND</td>\n",
       "      <td>McMinnville</td>\n",
       "      <td>TN</td>\n",
       "      <td>982 Northcutts Cove Road</td>\n",
       "      <td>CHARLIE SUNDERLAND</td>\n",
       "    </tr>\n",
       "    <tr>\n",
       "      <th>2</th>\n",
       "      <td>H-300-20231-774123</td>\n",
       "      <td>MICHAEL RUDEBUSCH</td>\n",
       "      <td>Livingston</td>\n",
       "      <td>TX</td>\n",
       "      <td>7366 State Hwy 146 S</td>\n",
       "      <td>MICHAEL RUDEBUSCH</td>\n",
       "    </tr>\n",
       "    <tr>\n",
       "      <th>3</th>\n",
       "      <td>H-300-20231-774151</td>\n",
       "      <td>LODAHL FARMS</td>\n",
       "      <td>Brockton</td>\n",
       "      <td>MT</td>\n",
       "      <td>4198 Road 2049</td>\n",
       "      <td>LODAHL FARMS</td>\n",
       "    </tr>\n",
       "    <tr>\n",
       "      <th>4</th>\n",
       "      <td>H-300-20231-774508</td>\n",
       "      <td>DUNSON HARVESTING, INC.</td>\n",
       "      <td>Winter Haven</td>\n",
       "      <td>FL</td>\n",
       "      <td>400 Eagle Lake Loop Rd.</td>\n",
       "      <td>DUNSON HARVESTING, INC</td>\n",
       "    </tr>\n",
       "  </tbody>\n",
       "</table>\n",
       "</div>"
      ],
      "text/plain": [
       "          CASE_NUMBER                       EMPLOYER_NAME EMPLOYER_CITY  \\\n",
       "0  H-300-20199-721302  FAZIO FARMS OPERATING COMPANY, LLC      Portland   \n",
       "1  H-300-20231-773906                  CHARLIE SUNDERLAND   McMinnville   \n",
       "2  H-300-20231-774123                   MICHAEL RUDEBUSCH    Livingston   \n",
       "3  H-300-20231-774151                        LODAHL FARMS      Brockton   \n",
       "4  H-300-20231-774508             DUNSON HARVESTING, INC.  Winter Haven   \n",
       "\n",
       "  EMPLOYER_STATE        EMPLOYER_ADDRESS_1                          name_clean  \n",
       "0             OR          8433 NE 13th Ave  FAZIO FARMS OPERATING COMPANY, LLC  \n",
       "1             TN  982 Northcutts Cove Road                  CHARLIE SUNDERLAND  \n",
       "2             TX      7366 State Hwy 146 S                   MICHAEL RUDEBUSCH  \n",
       "3             MT            4198 Road 2049                        LODAHL FARMS  \n",
       "4             FL   400 Eagle Lake Loop Rd.              DUNSON HARVESTING, INC  "
      ]
     },
     "execution_count": 13,
     "metadata": {},
     "output_type": "execute_result"
    },
    {
     "data": {
      "text/html": [
       "<div>\n",
       "<style scoped>\n",
       "    .dataframe tbody tr th:only-of-type {\n",
       "        vertical-align: middle;\n",
       "    }\n",
       "\n",
       "    .dataframe tbody tr th {\n",
       "        vertical-align: top;\n",
       "    }\n",
       "\n",
       "    .dataframe thead th {\n",
       "        text-align: right;\n",
       "    }\n",
       "</style>\n",
       "<table border=\"1\" class=\"dataframe\">\n",
       "  <thead>\n",
       "    <tr style=\"text-align: right;\">\n",
       "      <th></th>\n",
       "      <th>Name</th>\n",
       "      <th>City, State</th>\n",
       "      <th>Violation</th>\n",
       "      <th>Start date</th>\n",
       "      <th>viol_num</th>\n",
       "      <th>name_clean</th>\n",
       "    </tr>\n",
       "  </thead>\n",
       "  <tbody>\n",
       "    <tr>\n",
       "      <th>0</th>\n",
       "      <td>MACKY AND BRAD FARMS</td>\n",
       "      <td>Plains, TX</td>\n",
       "      <td>Impeding the Audit Process – Partial- Response</td>\n",
       "      <td>2/13/2015</td>\n",
       "      <td>viol1</td>\n",
       "      <td>MACKY AND BRAD FARMS</td>\n",
       "    </tr>\n",
       "    <tr>\n",
       "      <th>23</th>\n",
       "      <td>SRT FARMS</td>\n",
       "      <td>Morton, TX</td>\n",
       "      <td>Failure to respond to audit (no response)</td>\n",
       "      <td>11/16/2014</td>\n",
       "      <td>viol1</td>\n",
       "      <td>SRT FARMS</td>\n",
       "    </tr>\n",
       "    <tr>\n",
       "      <th>24</th>\n",
       "      <td>DOVE CREEK FARMS</td>\n",
       "      <td>Mount Vernon, TX</td>\n",
       "      <td>Failure to Respond to Audit Request</td>\n",
       "      <td>2/9/2018</td>\n",
       "      <td>viol1</td>\n",
       "      <td>DOVE CREEK FARMS</td>\n",
       "    </tr>\n",
       "    <tr>\n",
       "      <th>44</th>\n",
       "      <td>ROLLO FARM LABOR CONTRACTOR</td>\n",
       "      <td>Miami, FL</td>\n",
       "      <td>Failure to respond to audit (no response)</td>\n",
       "      <td>8/23/2014</td>\n",
       "      <td>viol1</td>\n",
       "      <td>ROLLO FARM LABOR CONTRACTOR</td>\n",
       "    </tr>\n",
       "    <tr>\n",
       "      <th>48</th>\n",
       "      <td>F&amp;W FARMS</td>\n",
       "      <td>Ingalls, KS</td>\n",
       "      <td>Impeding the Audit Process – Partial- Response</td>\n",
       "      <td>12/10/2014</td>\n",
       "      <td>viol1</td>\n",
       "      <td>F&amp;W FARMS</td>\n",
       "    </tr>\n",
       "  </tbody>\n",
       "</table>\n",
       "</div>"
      ],
      "text/plain": [
       "                           Name       City, State  \\\n",
       "0          MACKY AND BRAD FARMS        Plains, TX   \n",
       "23                    SRT FARMS        Morton, TX   \n",
       "24             DOVE CREEK FARMS  Mount Vernon, TX   \n",
       "44  ROLLO FARM LABOR CONTRACTOR         Miami, FL   \n",
       "48                    F&W FARMS       Ingalls, KS   \n",
       "\n",
       "                                         Violation  Start date viol_num  \\\n",
       "0   Impeding the Audit Process – Partial- Response   2/13/2015    viol1   \n",
       "23       Failure to respond to audit (no response)  11/16/2014    viol1   \n",
       "24             Failure to Respond to Audit Request    2/9/2018    viol1   \n",
       "44       Failure to respond to audit (no response)   8/23/2014    viol1   \n",
       "48  Impeding the Audit Process – Partial- Response  12/10/2014    viol1   \n",
       "\n",
       "                     name_clean  \n",
       "0          MACKY AND BRAD FARMS  \n",
       "23                    SRT FARMS  \n",
       "24             DOVE CREEK FARMS  \n",
       "44  ROLLO FARM LABOR CONTRACTOR  \n",
       "48                    F&W FARMS  "
      ]
     },
     "execution_count": 13,
     "metadata": {},
     "output_type": "execute_result"
    }
   ],
   "source": [
    "## your code here to print the head\n",
    "jobs.head()\n",
    "debar_clean.head()"
   ]
  },
  {
   "cell_type": "markdown",
   "metadata": {},
   "source": [
    "## 2.4 More joins and more cleaning (5 points)\n",
    "\n",
    "A. Conduct another inner join between `jobs` and `debar_clean` now using the `name_clean` column; print the result. Did the cleaning result in any more employers matched between the two datasets?\n",
    "\n",
    "B. Create a new column in `debar_clean` called `name_clean_2` that uses regex to take the following name in that dataset:\n",
    "\n",
    "- `SLASH E.V. RANCH LLP` in the `debar_clean` dataset\n",
    "\n",
    "And cleans it up so that it matches with this employer in `jobs`\n",
    "\n",
    "- `SLASH EV RANCH` in the `jobs` dataset\n",
    "\n",
    "Eg a pattern to remove the dots in the EV and the space+LLP-- you can apply the pattern to all employer names in debar_clean (so don't need to worry about only applying it to that one employer)\n",
    "\n",
    "\n",
    "C. Conduct a left join using `name_clean_2` as the join column where the left hand dataframe is `jobs`; right hand dataframe is `debar_clean`, store the result as a dataframe, and print the rows where the merge indicator indicates the row was found in both dataframe\n",
    "\n",
    "**Note**: this manual cleaning process is inefficient and helps motivate the fuzzy matching we'll cover in future week or optional OH; that fuzzy matching would recognize that Slash EV ranch is a highly similar string to slash ev ranch llp and match them without us needing to use regex to make the strings identical"
   ]
  },
  {
   "cell_type": "code",
   "execution_count": 14,
   "metadata": {},
   "outputs": [
    {
     "data": {
      "text/html": [
       "<div>\n",
       "<style scoped>\n",
       "    .dataframe tbody tr th:only-of-type {\n",
       "        vertical-align: middle;\n",
       "    }\n",
       "\n",
       "    .dataframe tbody tr th {\n",
       "        vertical-align: top;\n",
       "    }\n",
       "\n",
       "    .dataframe thead th {\n",
       "        text-align: right;\n",
       "    }\n",
       "</style>\n",
       "<table border=\"1\" class=\"dataframe\">\n",
       "  <thead>\n",
       "    <tr style=\"text-align: right;\">\n",
       "      <th></th>\n",
       "      <th>CASE_NUMBER</th>\n",
       "      <th>EMPLOYER_NAME</th>\n",
       "      <th>EMPLOYER_CITY</th>\n",
       "      <th>EMPLOYER_STATE</th>\n",
       "      <th>EMPLOYER_ADDRESS_1</th>\n",
       "      <th>name_clean</th>\n",
       "      <th>Name</th>\n",
       "      <th>City, State</th>\n",
       "      <th>Violation</th>\n",
       "      <th>Start date</th>\n",
       "      <th>viol_num</th>\n",
       "    </tr>\n",
       "  </thead>\n",
       "  <tbody>\n",
       "    <tr>\n",
       "      <th>0</th>\n",
       "      <td>H-300-20287-876656</td>\n",
       "      <td>RAFAEL BARAJAS</td>\n",
       "      <td>Port St. Lucie</td>\n",
       "      <td>FL</td>\n",
       "      <td>2598 SW Dalpina Rd.</td>\n",
       "      <td>RAFAEL BARAJAS</td>\n",
       "      <td>RAFAEL BARAJAS</td>\n",
       "      <td>Sebring, Florida</td>\n",
       "      <td>Non-payment of certification fee</td>\n",
       "      <td>9/23/2016</td>\n",
       "      <td>viol1</td>\n",
       "    </tr>\n",
       "  </tbody>\n",
       "</table>\n",
       "</div>"
      ],
      "text/plain": [
       "          CASE_NUMBER   EMPLOYER_NAME   EMPLOYER_CITY EMPLOYER_STATE  \\\n",
       "0  H-300-20287-876656  RAFAEL BARAJAS  Port St. Lucie             FL   \n",
       "\n",
       "    EMPLOYER_ADDRESS_1      name_clean            Name       City, State  \\\n",
       "0  2598 SW Dalpina Rd.  RAFAEL BARAJAS  RAFAEL BARAJAS  Sebring, Florida   \n",
       "\n",
       "                          Violation Start date viol_num  \n",
       "0  Non-payment of certification fee  9/23/2016    viol1  "
      ]
     },
     "execution_count": 14,
     "metadata": {},
     "output_type": "execute_result"
    }
   ],
   "source": [
    "## your code here\n",
    "jobs.merge(debar_clean, \"inner\", left_on=\"name_clean\", right_on=\"name_clean\")"
   ]
  },
  {
   "cell_type": "code",
   "execution_count": 15,
   "metadata": {},
   "outputs": [
    {
     "data": {
      "text/html": [
       "<div>\n",
       "<style scoped>\n",
       "    .dataframe tbody tr th:only-of-type {\n",
       "        vertical-align: middle;\n",
       "    }\n",
       "\n",
       "    .dataframe tbody tr th {\n",
       "        vertical-align: top;\n",
       "    }\n",
       "\n",
       "    .dataframe thead th {\n",
       "        text-align: right;\n",
       "    }\n",
       "</style>\n",
       "<table border=\"1\" class=\"dataframe\">\n",
       "  <thead>\n",
       "    <tr style=\"text-align: right;\">\n",
       "      <th></th>\n",
       "      <th>CASE_NUMBER</th>\n",
       "      <th>EMPLOYER_NAME</th>\n",
       "      <th>EMPLOYER_CITY</th>\n",
       "      <th>EMPLOYER_STATE</th>\n",
       "      <th>EMPLOYER_ADDRESS_1</th>\n",
       "      <th>name_clean_x</th>\n",
       "      <th>name_clean_2</th>\n",
       "      <th>Name</th>\n",
       "      <th>City, State</th>\n",
       "      <th>Violation</th>\n",
       "      <th>Start date</th>\n",
       "      <th>viol_num</th>\n",
       "      <th>name_clean_y</th>\n",
       "      <th>merge_status</th>\n",
       "    </tr>\n",
       "  </thead>\n",
       "  <tbody>\n",
       "    <tr>\n",
       "      <th>791</th>\n",
       "      <td>H-300-20287-876656</td>\n",
       "      <td>RAFAEL BARAJAS</td>\n",
       "      <td>Port St. Lucie</td>\n",
       "      <td>FL</td>\n",
       "      <td>2598 SW Dalpina Rd.</td>\n",
       "      <td>RAFAEL BARAJAS</td>\n",
       "      <td>RAFAEL BARAJAS</td>\n",
       "      <td>RAFAEL BARAJAS</td>\n",
       "      <td>Sebring, Florida</td>\n",
       "      <td>Non-payment of certification fee</td>\n",
       "      <td>9/23/2016</td>\n",
       "      <td>viol1</td>\n",
       "      <td>RAFAEL BARAJAS</td>\n",
       "      <td>both</td>\n",
       "    </tr>\n",
       "    <tr>\n",
       "      <th>1115</th>\n",
       "      <td>H-300-20306-894148</td>\n",
       "      <td>SLASH EV RANCH</td>\n",
       "      <td>Rifle</td>\n",
       "      <td>CO</td>\n",
       "      <td>22593 County Road 5</td>\n",
       "      <td>SLASH EV RANCH</td>\n",
       "      <td>SLASH EV RANCH</td>\n",
       "      <td>SLASH E.V. RANCH LLP</td>\n",
       "      <td>Rifle, CO</td>\n",
       "      <td>WHD Debarment</td>\n",
       "      <td>11/15/2014</td>\n",
       "      <td>viol1</td>\n",
       "      <td>SLASH E.V. RANCH LLP</td>\n",
       "      <td>both</td>\n",
       "    </tr>\n",
       "  </tbody>\n",
       "</table>\n",
       "</div>"
      ],
      "text/plain": [
       "             CASE_NUMBER   EMPLOYER_NAME   EMPLOYER_CITY EMPLOYER_STATE  \\\n",
       "791   H-300-20287-876656  RAFAEL BARAJAS  Port St. Lucie             FL   \n",
       "1115  H-300-20306-894148  SLASH EV RANCH           Rifle             CO   \n",
       "\n",
       "       EMPLOYER_ADDRESS_1    name_clean_x    name_clean_2  \\\n",
       "791   2598 SW Dalpina Rd.  RAFAEL BARAJAS  RAFAEL BARAJAS   \n",
       "1115  22593 County Road 5  SLASH EV RANCH  SLASH EV RANCH   \n",
       "\n",
       "                      Name       City, State  \\\n",
       "791         RAFAEL BARAJAS  Sebring, Florida   \n",
       "1115  SLASH E.V. RANCH LLP         Rifle, CO   \n",
       "\n",
       "                             Violation  Start date viol_num  \\\n",
       "791   Non-payment of certification fee   9/23/2016    viol1   \n",
       "1115                     WHD Debarment  11/15/2014    viol1   \n",
       "\n",
       "              name_clean_y merge_status  \n",
       "791         RAFAEL BARAJAS         both  \n",
       "1115  SLASH E.V. RANCH LLP         both  "
      ]
     },
     "execution_count": 15,
     "metadata": {},
     "output_type": "execute_result"
    }
   ],
   "source": [
    "jobs[\"name_clean_2\"] = [re.sub(r\"\\.|\\sLLP\", \"\", n) for n in jobs.name_clean]\n",
    "debar_clean[\"name_clean_2\"] = [re.sub(r\"\\.|\\sLLP\", \"\", n) for n in debar_clean.name_clean]\n",
    "tmp_df = jobs.merge(debar_clean, \"left\", on=\"name_clean_2\", indicator=\"merge_status\")\n",
    "tmp_df[tmp_df.merge_status==\"both\"]"
   ]
  },
  {
   "cell_type": "markdown",
   "metadata": {},
   "source": [
    "# 3. Optional extra credit 1: regex to separate companies from individuals (1 point)\n",
    "\n",
    "You notice some employers in `debar_clean` have both the name of the company and the name of individual, e.g.:\n",
    "    \n",
    "COUNTY FAIR FARM (COMPANY) AND ANDREW WILLIAMSON (INDIVIDUAL)*\n",
    "\n",
    "Use the uppercase/cleaned `name_clean` in `debar_clean`\n",
    "\n",
    "A. Write a regex pattern that does the following:\n",
    "    - Captures the pattern that occurs before COMPANY if (COMPANY) is in string; so in example above, extracts COUNTY FAIR FARM \n",
    "    - Captures the pattern that occurs before INDIVIDUAL if (INDIVIDUAL) is also in string -- so in above, extracts ANDREW WILLIAMSON (so omit the \"and\")\n",
    "    \n",
    "B. Test the pattern on `pos_example` and `neg_example`-- make sure former returns a list (if using find.all) or match object (if using re.search) with the company name and individual name separated out; make sure latter returns empty\n",
    "    \n",
    "**Hints and resources**: for step A, you can either use re.search, re.match, or re.findall; don't worry about matching B&R Harvesting and Paul Cruz (Individual)\n",
    "\n",
    "- Same regex resources as above\n",
    "    "
   ]
  },
  {
   "cell_type": "code",
   "execution_count": 16,
   "metadata": {},
   "outputs": [
    {
     "data": {
      "text/plain": [
       "[('COUNTY FAIR FARM', ''), ('', 'ANDREW WILLIAMSON')]"
      ]
     },
     "execution_count": 16,
     "metadata": {},
     "output_type": "execute_result"
    },
    {
     "data": {
      "text/plain": [
       "[]"
      ]
     },
     "execution_count": 16,
     "metadata": {},
     "output_type": "execute_result"
    }
   ],
   "source": [
    "pos_example = \"COUNTY FAIR FARM (COMPANY) AND ANDREW WILLIAMSON (INDIVIDUAL)*\"\n",
    "neg_example = \"CISCO PRODUCE INC\"\n",
    "\n",
    "## your code here to define the pattern\n",
    "pattern = r\"(.*)\\s\\(COMPANY\\)|AND\\s(.*)\\s\\(INDIVIDUAL\\)\"\n",
    "\n",
    "## your code here to apply it to the pos_example\n",
    "re.findall(pattern, pos_example)\n",
    "\n",
    "## your code here to apply it to the negative example\n",
    "re.findall(pattern, neg_example)"
   ]
  },
  {
   "cell_type": "markdown",
   "metadata": {},
   "source": [
    "C. Iterate over the `name_clean` column in debar and use regex to create two new columns in `debar_clean`:\n",
    "   - `co_name`: A column for company (full `name_clean` string if no match; pattern before COMPANY if one extracted)\n",
    "   - `ind_name`: A column for individual (full `name_clean` string if no match; pattern before INDIVIDUAL if one extracted)\n",
    " \n"
   ]
  },
  {
   "cell_type": "code",
   "execution_count": 17,
   "metadata": {},
   "outputs": [],
   "source": [
    "# your code here\n",
    "debar_clean[\"co_name\"] = [re.findall(pattern,n)[0][0] if re.findall(pattern, n) != [] else None for n in debar_clean.name_clean]\n",
    "debar_clean[\"ind_name\"] = [re.findall(pattern,n)[1][1] if len(re.findall(pattern, n)) > 1 else None for n in debar_clean.name_clean]"
   ]
  },
  {
   "cell_type": "markdown",
   "metadata": {},
   "source": [
    "   \n",
    "D. Print three columns for the rows in `debar_clean` containing the negative example and positive example described above (county fair farm and cisco produce):\n",
    "\n",
    "- `name_clean`\n",
    "- `co_name`\n",
    "- `ind_name`\n",
    "- `Violation`\n",
    "\n",
    "**Note**: as shown in the outcome there may be duplicates of the same company reflecting different violations"
   ]
  },
  {
   "cell_type": "code",
   "execution_count": 18,
   "metadata": {},
   "outputs": [
    {
     "data": {
      "text/html": [
       "<div>\n",
       "<style scoped>\n",
       "    .dataframe tbody tr th:only-of-type {\n",
       "        vertical-align: middle;\n",
       "    }\n",
       "\n",
       "    .dataframe tbody tr th {\n",
       "        vertical-align: top;\n",
       "    }\n",
       "\n",
       "    .dataframe thead th {\n",
       "        text-align: right;\n",
       "    }\n",
       "</style>\n",
       "<table border=\"1\" class=\"dataframe\">\n",
       "  <thead>\n",
       "    <tr style=\"text-align: right;\">\n",
       "      <th></th>\n",
       "      <th>name_clean</th>\n",
       "      <th>co_name</th>\n",
       "      <th>ind_name</th>\n",
       "      <th>Violation</th>\n",
       "    </tr>\n",
       "  </thead>\n",
       "  <tbody>\n",
       "    <tr>\n",
       "      <th>84</th>\n",
       "      <td>COUNTY FAIR FARM (COMPANY) AND ANDREW WILLIAMS...</td>\n",
       "      <td>COUNTY FAIR FARM</td>\n",
       "      <td>ANDREW WILLIAMSON</td>\n",
       "      <td>WHD Debarment</td>\n",
       "    </tr>\n",
       "  </tbody>\n",
       "</table>\n",
       "</div>"
      ],
      "text/plain": [
       "                                           name_clean           co_name  \\\n",
       "84  COUNTY FAIR FARM (COMPANY) AND ANDREW WILLIAMS...  COUNTY FAIR FARM   \n",
       "\n",
       "             ind_name      Violation  \n",
       "84  ANDREW WILLIAMSON  WHD Debarment  "
      ]
     },
     "execution_count": 18,
     "metadata": {},
     "output_type": "execute_result"
    },
    {
     "data": {
      "text/html": [
       "<div>\n",
       "<style scoped>\n",
       "    .dataframe tbody tr th:only-of-type {\n",
       "        vertical-align: middle;\n",
       "    }\n",
       "\n",
       "    .dataframe tbody tr th {\n",
       "        vertical-align: top;\n",
       "    }\n",
       "\n",
       "    .dataframe thead th {\n",
       "        text-align: right;\n",
       "    }\n",
       "</style>\n",
       "<table border=\"1\" class=\"dataframe\">\n",
       "  <thead>\n",
       "    <tr style=\"text-align: right;\">\n",
       "      <th></th>\n",
       "      <th>name_clean</th>\n",
       "      <th>co_name</th>\n",
       "      <th>ind_name</th>\n",
       "      <th>Violation</th>\n",
       "    </tr>\n",
       "  </thead>\n",
       "  <tbody>\n",
       "    <tr>\n",
       "      <th>49</th>\n",
       "      <td>CISCO PRODUCE INC</td>\n",
       "      <td>None</td>\n",
       "      <td>None</td>\n",
       "      <td>Impeding the Audit Process – Non- Response</td>\n",
       "    </tr>\n",
       "    <tr>\n",
       "      <th>70</th>\n",
       "      <td>CISCO PRODUCE INC</td>\n",
       "      <td>None</td>\n",
       "      <td>None</td>\n",
       "      <td>Failure to respond to audit (no response)</td>\n",
       "    </tr>\n",
       "  </tbody>\n",
       "</table>\n",
       "</div>"
      ],
      "text/plain": [
       "           name_clean co_name ind_name  \\\n",
       "49  CISCO PRODUCE INC    None     None   \n",
       "70  CISCO PRODUCE INC    None     None   \n",
       "\n",
       "                                     Violation  \n",
       "49  Impeding the Audit Process – Non- Response  \n",
       "70   Failure to respond to audit (no response)  "
      ]
     },
     "execution_count": 18,
     "metadata": {},
     "output_type": "execute_result"
    }
   ],
   "source": [
    "# your code here\n",
    "debar_clean[debar_clean.name_clean == pos_example][[\"name_clean\", \"co_name\", \"ind_name\", \"Violation\"]]\n",
    "debar_clean[debar_clean.name_clean == neg_example][[\"name_clean\", \"co_name\", \"ind_name\", \"Violation\"]]"
   ]
  },
  {
   "cell_type": "markdown",
   "metadata": {},
   "source": []
  },
  {
   "cell_type": "markdown",
   "metadata": {},
   "source": [
    "# 4. Optional extra credit 2 (up to 3 points)\n",
    "\n",
    "- For 1 point extra credit, create a visualization with 1+ of the existing fields in either the raw `jobs` or `debar` data. We'll be showing cool visualizations in class so use your imagination! Options could include visualizing between-state or over-time variation\n",
    "\n",
    "- For 3 points extra credit instead, geocode the employer addresses in `jobs` and plot the addresses of jobs as points overlaid on top of a map of Georgia \n",
    "    - **Note**: this extra credit involves Googling since we have not yet covered spatial data. \n",
    "        - For discussion of how to geocode addresses -> lat/long, see: https://www.natasshaselvaraj.com/a-step-by-step-guide-on-geocoding-in-python/ \n",
    "        - For discussion of plotting lat/long dots against a map, see this discussion of geopandas: https://towardsdatascience.com/plotting-maps-with-geopandas-428c97295a73\n",
    "    - Relevant columns include `EMPLOYER_ADDRESS_1` \n",
    "    - The geocoding might have a long runtime so feel free to implement it in a separate .py script that you submit alongside your notebook and to just read in the geocoded data"
   ]
  },
  {
   "cell_type": "code",
   "execution_count": 19,
   "metadata": {},
   "outputs": [],
   "source": [
    "## your code here\n",
    "import geopandas as gpd\n",
    "import matplotlib.pyplot as plt\n",
    "import config \n",
    "import requests\n",
    "import pprint\n",
    "\n",
    "subset = jobs[(jobs[\"EMPLOYER_STATE\"] == \"GA\") & \n",
    "              (~jobs[\"EMPLOYER_ADDRESS_1\"].str.contains(\"PO Box\")) & \n",
    "              (~jobs[\"EMPLOYER_ADDRESS_1\"].str.contains(\"P O BOX\"))\n",
    "             ].copy()\n",
    "subset = subset[subset[\"EMPLOYER_NAME\"] != \"ROJAS AVILA HARVESTING, LLC\"]\n",
    "\n",
    "subset[\"geocoded\"] = [tuple(requests.get(f\"https://api.mapbox.com/geocoding/v5/mapbox.places/{re.sub('#', '', subset.iloc[a]['EMPLOYER_ADDRESS_1'])} {re.sub('#', '', subset.iloc[a]['EMPLOYER_CITY'])} {re.sub('#', '', subset.iloc[a]['EMPLOYER_STATE'])}.json\", \n",
    "                   params={\"access_token\": config.api_token}).json()[\"features\"][0][\"center\"]) \n",
    "                      for a in range(len(subset))]"
   ]
  },
  {
   "cell_type": "code",
   "execution_count": 20,
   "metadata": {},
   "outputs": [],
   "source": [
    "%matplotlib inline"
   ]
  },
  {
   "cell_type": "code",
   "execution_count": 22,
   "metadata": {},
   "outputs": [
    {
     "name": "stderr",
     "output_type": "stream",
     "text": [
      "C:\\Users\\keyasengupta\\anaconda2\\envs\\py38\\lib\\site-packages\\pyproj\\crs\\crs.py:141: FutureWarning: '+init=<authority>:<code>' syntax is deprecated. '<authority>:<code>' is the preferred initialization method. When making the change, be mindful of axis order changes: https://pyproj4.github.io/pyproj/stable/gotchas.html#axis-order-changes-in-proj-6\n",
      "  in_crs_string = _prepare_from_proj_string(in_crs_string)\n"
     ]
    },
    {
     "data": {
      "text/plain": [
       "<AxesSubplot: >"
      ]
     },
     "execution_count": 22,
     "metadata": {},
     "output_type": "execute_result"
    },
    {
     "data": {
      "text/plain": [
       "<AxesSubplot: >"
      ]
     },
     "execution_count": 22,
     "metadata": {},
     "output_type": "execute_result"
    },
    {
     "data": {
      "image/png": "[encoded data removed]",
      "text/plain": [
       "<Figure size 640x480 with 1 Axes>"
      ]
     },
     "metadata": {},
     "output_type": "display_data"
    }
   ],
   "source": [
    "from shapely.geometry import Point\n",
    "\n",
    "georgia = gpd.read_file(\"pset4_inputdata/tl_2019_13_cousub.shp\")\n",
    "\n",
    "geom = [Point(x) for x in subset.geocoded]\n",
    "geo_df = gpd.GeoDataFrame(subset, \n",
    "                          crs = {'init':'EPSG:4326'}, \n",
    "                          geometry = geom)\n",
    "\n",
    "fig, ax = plt.subplots()\n",
    "georgia.to_crs(epsg=4326).plot(ax=ax, color='lightgrey')\n",
    "geo_df[\"geometry\"].plot(ax=ax, color=\"purple\")"
   ]
  }
 ],
 "metadata": {
  "kernelspec": {
   "display_name": "Python 3",
   "language": "python",
   "name": "python3"
  },
  "language_info": {
   "codemirror_mode": {
    "name": "ipython",
    "version": 3
   },
   "file_extension": ".py",
   "mimetype": "text/x-python",
   "name": "python",
   "nbconvert_exporter": "python",
   "pygments_lexer": "ipython3",
   "version": "3.8.5"
  }
 },
 "nbformat": 4,
 "nbformat_minor": 4
}
