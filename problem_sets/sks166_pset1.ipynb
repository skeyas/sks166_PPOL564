{
 "cells": [
  {
   "cell_type": "markdown",
   "metadata": {},
   "source": [
    "# 0. Problem set 1 (24 points)\n",
    "\n",
    "This short problem set will:\n",
    "    \n",
    "- Make sure your jupyter notebook installation is working\n",
    "- Give you practice with the following concepts covered in lecture and on DataCamp:\n",
    "    - Python lists\n",
    "    - numpy arrays\n",
    "    - Basic list comprehension"
   ]
  },
  {
   "cell_type": "code",
   "execution_count": 1,
   "metadata": {},
   "outputs": [],
   "source": [
    "# imports\n",
    "import numpy as np"
   ]
  },
  {
   "cell_type": "markdown",
   "metadata": {},
   "source": [
    "# 1. Practice with lists"
   ]
  },
  {
   "cell_type": "markdown",
   "metadata": {},
   "source": [
    "## 1.1 List addition (2 points)\n",
    "\n",
    "We provide you with a list of our names below.\n",
    "\n",
    "- Use list addition to add your name to the list\n",
    "- Store this as a new list called `instructor_my_name` \n",
    "- Print that list"
   ]
  },
  {
   "cell_type": "code",
   "execution_count": 2,
   "metadata": {},
   "outputs": [],
   "source": [
    "## we provide\n",
    "instructor_names = ['Sonali', 'Rebecca', 'Yifan']"
   ]
  },
  {
   "cell_type": "code",
   "execution_count": 3,
   "metadata": {},
   "outputs": [
    {
     "name": "stdout",
     "output_type": "stream",
     "text": [
      "['Sonali', 'Rebecca', 'Yifan', 'Keya']\n"
     ]
    }
   ],
   "source": [
    "instructor_my_name = instructor_names + [\"Keya\"]\n",
    "print(instructor_my_name)"
   ]
  },
  {
   "cell_type": "markdown",
   "metadata": {},
   "source": [
    "## 1.2 List indexing (2 points)\n",
    "\n",
    "- Use the `.index()` method to get the index of the professor's name (Rebecca) \n",
    "- Use that index to extract that name\n",
    "- Store it in a list called prof and print"
   ]
  },
  {
   "cell_type": "code",
   "execution_count": 4,
   "metadata": {},
   "outputs": [
    {
     "name": "stdout",
     "output_type": "stream",
     "text": [
      "['Rebecca']\n"
     ]
    }
   ],
   "source": [
    "## your code here to get index of prof's name\n",
    "prof = [instructor_my_name[instructor_my_name.index(\"Rebecca\")]]\n",
    "print(prof)"
   ]
  },
  {
   "cell_type": "code",
   "execution_count": 5,
   "metadata": {},
   "outputs": [],
   "source": [
    "## your code here to extract the name and print"
   ]
  },
  {
   "cell_type": "markdown",
   "metadata": {},
   "source": [
    "## 1.3 Indexing lists of lists (2 points)\n",
    "\n",
    "- We provide you with the below list of lists (`roles_listoflists`)\n",
    "- A. Use subsetting to pull out the role of Rebecca (can just hard code the relevant indices)\n",
    "- B. Pull out and print the type of the element at index 1 (Yifan's name and role)"
   ]
  },
  {
   "cell_type": "code",
   "execution_count": 6,
   "metadata": {},
   "outputs": [],
   "source": [
    "## we provide\n",
    "roles_listoflists = [['Rebecca', 'Prof'], ['Yifan', 'TA'], ['Sonali', 'TA']]"
   ]
  },
  {
   "cell_type": "code",
   "execution_count": 7,
   "metadata": {},
   "outputs": [
    {
     "name": "stdout",
     "output_type": "stream",
     "text": [
      "Prof\n"
     ]
    }
   ],
   "source": [
    "## your code here pull out role of rebecca \n",
    "role = roles_listoflists[0][1]\n",
    "print(role)"
   ]
  },
  {
   "cell_type": "code",
   "execution_count": 8,
   "metadata": {},
   "outputs": [
    {
     "name": "stdout",
     "output_type": "stream",
     "text": [
      "['Yifan', 'TA']\n"
     ]
    }
   ],
   "source": [
    "## your code here for part b\n",
    "print(roles_listoflists[1][:])"
   ]
  },
  {
   "cell_type": "markdown",
   "metadata": {},
   "source": [
    "## 1.4 Edit list elements (3 points)\n",
    "\n",
    "\n",
    "- In `roles_listoflists`, replace the role 'TA' with the role 'Teaching Assistant' (fine to do in two lines of code)\n",
    "- Print the updated list"
   ]
  },
  {
   "cell_type": "code",
   "execution_count": 9,
   "metadata": {},
   "outputs": [
    {
     "name": "stdout",
     "output_type": "stream",
     "text": [
      "[['Rebecca', 'Prof'], ['Yifan', 'Teaching Assistant'], ['Sonali', 'Teaching Assistant']]\n"
     ]
    }
   ],
   "source": [
    "## your code here \n",
    "roles_listoflists = [[\"Teaching Assistant\" if i == \"TA\" else i for i in j] for j in roles_listoflists]\n",
    "print(roles_listoflists)"
   ]
  },
  {
   "cell_type": "markdown",
   "metadata": {},
   "source": [
    "# 2. Practice with numpy arrays "
   ]
  },
  {
   "cell_type": "markdown",
   "metadata": {},
   "source": [
    "## 2.1 Converting a list to an array (2 points)\n",
    "\n",
    "- A. Transform the roles_listoflists from the previous part (so with TA replaced with teaching assistant)into a 2D numpy array; call it roles_array\n",
    "- B. Print the shape/dimensions of `roles_array`"
   ]
  },
  {
   "cell_type": "code",
   "execution_count": 10,
   "metadata": {},
   "outputs": [
    {
     "name": "stdout",
     "output_type": "stream",
     "text": [
      "(3, 2)\n"
     ]
    }
   ],
   "source": [
    "## your code here\n",
    "roles_array = np.array(roles_listoflists)\n",
    "print(roles_array.shape)"
   ]
  },
  {
   "cell_type": "markdown",
   "metadata": {},
   "source": [
    "## 2.2 Subsetting arrays using True/False (boolean) indicators (2 points)\n",
    "\n",
    "- A. Create a boolean indicator for rows where the role (second column) == 'Teaching Assistant' and print that indicator\n",
    "- B. Use that boolean indicator to subset roles_array store the array as roles_TA \n",
    "- C. Print the `roles_TA` array and its dimensions (should be 2x2)"
   ]
  },
  {
   "cell_type": "code",
   "execution_count": 11,
   "metadata": {},
   "outputs": [
    {
     "name": "stdout",
     "output_type": "stream",
     "text": [
      "[False  True  True]\n"
     ]
    }
   ],
   "source": [
    "## your code here\n",
    "indicator = roles_array[:, 1] == \"Teaching Assistant\"\n",
    "print(indicator)"
   ]
  },
  {
   "cell_type": "code",
   "execution_count": 12,
   "metadata": {},
   "outputs": [],
   "source": [
    "## your code here\n",
    "roles_TA = roles_array[indicator]"
   ]
  },
  {
   "cell_type": "code",
   "execution_count": 13,
   "metadata": {},
   "outputs": [
    {
     "name": "stdout",
     "output_type": "stream",
     "text": [
      "[['Yifan' 'Teaching Assistant']\n",
      " ['Sonali' 'Teaching Assistant']]\n",
      "(2, 2)\n"
     ]
    }
   ],
   "source": [
    "## your code here \n",
    "print(roles_TA)\n",
    "print(roles_TA.shape)"
   ]
  },
  {
   "cell_type": "markdown",
   "metadata": {},
   "source": [
    "## 2.3 Adding to an array (2 points)\n",
    "\n",
    "- A. Use np.append (google the documentation) to  add the following column with the netids of the two TA to the roles_TA array as the last column \n",
    "- B. Store as role_TA_net\n",
    "- C. Print the dimensions (should be 2x3)"
   ]
  },
  {
   "cell_type": "code",
   "execution_count": 14,
   "metadata": {},
   "outputs": [
    {
     "name": "stdout",
     "output_type": "stream",
     "text": [
      "[['yl1374']\n",
      " ['ss4608']]\n"
     ]
    }
   ],
   "source": [
    "## column to add \n",
    "netids = np.array([['yl1374'], ['ss4608']])\n",
    "print(netids)"
   ]
  },
  {
   "cell_type": "code",
   "execution_count": 15,
   "metadata": {},
   "outputs": [],
   "source": [
    "## your code here\n",
    "role_TA_net = np.append(roles_TA, netids, axis=1)"
   ]
  },
  {
   "cell_type": "code",
   "execution_count": 16,
   "metadata": {},
   "outputs": [
    {
     "name": "stdout",
     "output_type": "stream",
     "text": [
      "(2, 3)\n"
     ]
    }
   ],
   "source": [
    "## your code here\n",
    "print(role_TA_net.shape)"
   ]
  },
  {
   "cell_type": "markdown",
   "metadata": {},
   "source": [
    "# 3. Practice with iteration/list comprehension\n",
    "\n",
    "Here, we provide you with a list containing the course codes for different McCourt/Georgetown Fall 2022 courses."
   ]
  },
  {
   "cell_type": "code",
   "execution_count": 17,
   "metadata": {},
   "outputs": [],
   "source": [
    "## course code list \n",
    "course_codes = [\"PPOL 506\", \"PPOL 560\", \"PPOL 564\", \"SOCI 4961\"]"
   ]
  },
  {
   "cell_type": "markdown",
   "metadata": {},
   "source": [
    "## 3.1 Using list comprehension to keep all elements / transform them (3 points)\n",
    "\n",
    "- A. Create a new list---course_codes_ns-- that removes the spaces in each course code--- eg PPOL 506 should become PPOL506\n",
    "- B. Print `course_codes_ns`"
   ]
  },
  {
   "cell_type": "code",
   "execution_count": 18,
   "metadata": {},
   "outputs": [
    {
     "name": "stdout",
     "output_type": "stream",
     "text": [
      "['PPOL506', 'PPOL560', 'PPOL564', 'SOCI4961']\n"
     ]
    }
   ],
   "source": [
    "## your code here\n",
    "course_codes_ns = [course.replace(\" \", \"\") for course in course_codes]\n",
    "print(course_codes_ns)"
   ]
  },
  {
   "cell_type": "markdown",
   "metadata": {},
   "source": [
    "## 3.2 Using list comprehension to subset a list (3 points)\n",
    "\n",
    "- A. using course_codes_ns, create a new list just with courses with ppol in the name; store it as `course_codes_ppol`"
   ]
  },
  {
   "cell_type": "code",
   "execution_count": 19,
   "metadata": {},
   "outputs": [],
   "source": [
    "## your code here\n",
    "course_codes_ppol = [course for course in course_codes_ns if \"PPOL\" in course]"
   ]
  },
  {
   "cell_type": "markdown",
   "metadata": {},
   "source": [
    "## 3.3 Using list comprehension to conditionally change a list's elements (3 points)\n",
    "\n",
    "- A. `using course_codes_ppol`, add the string prefix \"stats_\" to ppol506 and 560; \"ds_\" to ppol564\n",
    "- B. Store as `course_codes_detail` and print"
   ]
  },
  {
   "cell_type": "code",
   "execution_count": 20,
   "metadata": {},
   "outputs": [
    {
     "name": "stdout",
     "output_type": "stream",
     "text": [
      "['stats_PPOL506', 'stats_PPOL560', 'ds_PPOL564']\n"
     ]
    }
   ],
   "source": [
    "## your code here\n",
    "course_codes_detail = [('stats_' + course if course in [\"PPOL506\", \"PPOL560\"] else ('ds_' + course if course in [\"PPOL564\"] else course)) for course in course_codes_ppol]\n",
    "print(course_codes_detail)"
   ]
  },
  {
   "cell_type": "code",
   "execution_count": null,
   "metadata": {},
   "outputs": [],
   "source": []
  },
  {
   "cell_type": "code",
   "execution_count": null,
   "metadata": {},
   "outputs": [],
   "source": []
  }
 ],
 "metadata": {
  "kernelspec": {
   "display_name": "Python 3",
   "language": "python",
   "name": "python3"
  },
  "language_info": {
   "codemirror_mode": {
    "name": "ipython",
    "version": 3
   },
   "file_extension": ".py",
   "mimetype": "text/x-python",
   "name": "python",
   "nbconvert_exporter": "python",
   "pygments_lexer": "ipython3",
   "version": "3.8.5"
  },
  "vscode": {
   "interpreter": {
    "hash": "397704579725e15f5c7cb49fe5f0341eb7531c82d19f2c29d197e8b64ab5776b"
   }
  }
 },
 "nbformat": 4,
 "nbformat_minor": 4
}
